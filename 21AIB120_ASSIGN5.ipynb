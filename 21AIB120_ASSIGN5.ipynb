{
 "cells": [
  {
   "cell_type": "code",
   "execution_count": 77,
   "metadata": {},
   "outputs": [],
   "source": [
    "import math\n",
    "\n",
    "class TreeNode:\n",
    "    def __init__(self, attribute=None, label=None):\n",
    "        self.attribute = attribute  # Attribute to split on\n",
    "        self.label = label  # Class label if leaf node, None otherwise\n",
    "        self.children = {}  # Dictionary of attribute values to child nodes"
   ]
  },
  {
   "cell_type": "markdown",
   "metadata": {},
   "source": [
    "<b>Finding out the Entropy</b> (a measure of disorder or impurity in a node. ) Of the DT.\n",
    "![Alt text](image-2.png)"
   ]
  },
  {
   "cell_type": "code",
   "execution_count": 78,
   "metadata": {},
   "outputs": [],
   "source": [
    "def entropy(data):\n",
    "    class_counts = {}# Dictionary of class labels to counts\n",
    "    #In this loop we are counting the number of each class label\n",
    "    for entry in data:\n",
    "        label = entry[-1]\n",
    "        if label not in class_counts:\n",
    "            class_counts[label] = 0#If the label is not in the dictionary, we add it\n",
    "        class_counts[label] += 1#increment the count of the label\n",
    "\n",
    "    total_entries = len(data)\n",
    "    entropy_value = 0 #the entropy value is initialised to zero.\n",
    "\n",
    "    for count in class_counts.values():\n",
    "        probability = count / total_entries\n",
    "        entropy_value -= probability * math.log2(probability)\n",
    "\n",
    "    return entropy_value\n"
   ]
  },
  {
   "cell_type": "markdown",
   "metadata": {},
   "source": [
    "![Alt text](image-4.png)\n",
    "# Next,calculating the I.G. of each feature and selecting the one with the highest I.G. value.\n",
    "![Alt text](image-3.png)"
   ]
  },
  {
   "cell_type": "code",
   "execution_count": 79,
   "metadata": {},
   "outputs": [],
   "source": [
    "#This function calculates the information gain for a given attribute.\n",
    "def information_gain(data, attribute_index):\n",
    "    attribute_values = {}#dictionary of attribute values to data subsets\n",
    "    #In this loop we are splitting the data into subsets based on the attribute values\n",
    "    for entry in data:\n",
    "        value = entry[attribute_index]\n",
    "        if value not in attribute_values:\n",
    "            attribute_values[value] = []\n",
    "        attribute_values[value].append(entry)\n",
    "\n",
    "    total_entries = len(data)\n",
    "    attribute_entropy = 0\n",
    "\n",
    "    for value_data in attribute_values.values():\n",
    "        proportion = len(value_data) / total_entries\n",
    "        attribute_entropy += proportion * entropy(value_data)\n",
    "\n",
    "    return entropy(data) - attribute_entropy"
   ]
  },
  {
   "cell_type": "markdown",
   "metadata": {},
   "source": [
    "# Function used for Building and Printing the D.T."
   ]
  },
  {
   "cell_type": "code",
   "execution_count": 80,
   "metadata": {},
   "outputs": [],
   "source": [
    "\n",
    "def build_decision_tree(data, attributes):\n",
    "    class_labels = set(entry[-1] for entry in data)#set of unique class labels\n",
    "\n",
    "    # If all instances have the same class label\n",
    "    if len(class_labels) == 1:\n",
    "        return TreeNode(label=class_labels.pop())\n",
    "\n",
    "    # If no attributes left or data is pure and If true, create a leaf node with the majority class label and return it.\n",
    "    if not attributes or entropy(data) == 0:\n",
    "        label_counts = {label: 0 for label in class_labels}#dictionary of class labels to counts\n",
    "        for entry in data:\n",
    "            label_counts[entry[-1]] += 1\n",
    "        majority_label = max(label_counts, key=label_counts.get)\n",
    "        return TreeNode(label=majority_label)\n",
    "\n",
    "    # Find the attribute with the highest information gain\n",
    "    best_attribute_index = max(range(len(attributes)), key=lambda i: information_gain(data, i))\n",
    "    best_attribute = attributes[best_attribute_index]\n",
    "    # Create a new decision tree node with the best attribute\n",
    "    root = TreeNode(attribute=best_attribute)\n",
    "    attribute_values = set(entry[best_attribute_index] for entry in data)\n",
    "    # Create a new decision tree sub-node for each of the values in the best attribute field.\n",
    "    for value in attribute_values:\n",
    "        subset_data = [entry for entry in data if entry[best_attribute_index] == value]\n",
    "        if not subset_data:\n",
    "            label_counts = {label: 0 for label in class_labels}\n",
    "            for entry in data:\n",
    "                label_counts[entry[-1]] += 1\n",
    "            majority_label = max(label_counts, key=label_counts.get)\n",
    "            root.children[value] = TreeNode(label=majority_label)\n",
    "        else:\n",
    "            remaining_attributes = [attr for i, attr in enumerate(attributes) if i != best_attribute_index]\n",
    "            root.children[value] = build_decision_tree(subset_data, remaining_attributes)\n",
    "\n",
    "    return root\n",
    "\n",
    "def print_tree(node, indent=\"\"):\n",
    "    if node.label is not None:\n",
    "        print(indent + \"Class:\", node.label)\n",
    "    else:\n",
    "        print(indent + \"Attribute:\", node.attribute)\n",
    "        for value, child_node in node.children.items():\n",
    "            print(indent + \"Value:\", value)\n",
    "            print_tree(child_node, indent + \"  \")\n",
    "\n"
   ]
  },
  {
   "cell_type": "code",
   "execution_count": 81,
   "metadata": {},
   "outputs": [
    {
     "name": "stdout",
     "output_type": "stream",
     "text": [
      "Attribute: outlook\n",
      "Value: overcast\n",
      "  Class: yes\n",
      "Value: rainy\n",
      "  Attribute: humidity\n",
      "  Value: cool\n",
      "    Attribute: temperature\n",
      "    Value: rainy\n",
      "      Attribute: windy\n",
      "      Value: rainy\n",
      "        Class: no\n",
      "  Value: mild\n",
      "    Attribute: temperature\n",
      "    Value: rainy\n",
      "      Attribute: windy\n",
      "      Value: rainy\n",
      "        Class: yes\n",
      "Value: sunny\n",
      "  Attribute: windy\n",
      "  Value: normal\n",
      "    Class: yes\n",
      "  Value: high\n",
      "    Class: no\n"
     ]
    }
   ],
   "source": [
    "def main():\n",
    "    # Example dataset: outlook, temperature, humidity, windy, play\n",
    "    data = [\n",
    "        ('sunny', 'hot', 'high', False, 'no'),\n",
    "        ('sunny', 'hot', 'high', True, 'no'),\n",
    "        ('overcast', 'hot', 'high', False, 'yes'),\n",
    "        ('rainy', 'mild', 'high', False, 'yes'),\n",
    "        ('rainy', 'cool', 'normal', False, 'yes'),\n",
    "        ('rainy', 'cool', 'normal', True, 'no'),\n",
    "        ('overcast', 'cool', 'normal', True, 'yes'),\n",
    "        ('sunny', 'mild', 'high', False, 'no'),\n",
    "        ('sunny', 'cool', 'normal', False, 'yes'),\n",
    "        ('rainy', 'mild', 'normal', False, 'yes'),\n",
    "        ('sunny', 'mild', 'normal', True, 'yes'),\n",
    "        ('overcast', 'mild', 'high', True, 'yes'),\n",
    "        ('overcast', 'hot', 'normal', False, 'yes'),\n",
    "        ('rainy', 'mild', 'high', True, 'no')\n",
    "    ]\n",
    "\n",
    "    attributes = ['outlook', 'temperature', 'humidity', 'windy']\n",
    "\n",
    "    decision_tree = build_decision_tree(data, attributes)\n",
    "    print_tree(decision_tree)\n",
    "\n",
    "if __name__ == \"__main__\":\n",
    "    main()"
   ]
  },
  {
   "cell_type": "markdown",
   "metadata": {},
   "source": [
    "# So final Interpretation-"
   ]
  },
  {
   "cell_type": "markdown",
   "metadata": {},
   "source": [
    "<ol>\n",
    "<li>The root node splits the data based on the \"outlook\" attribute.</li>\n",
    "<li>If the outlook is \"overcast,\" the class is predicted as \"yes.\"</li>\n",
    "<li>If the outlook is \"rainy,\" further splitting is done based on \"humidity\" and \"temperature.\"</li>\n",
    "<li>If the humidity is \"cool\" and the temperature is \"rainy,\" the decision is based on the \"windy\" attribute.</li>\n",
    "<li>The process continues recursively until leaf nodes are reached, representing the predicted class.</li>\n",
    "</ol>"
   ]
  },
  {
   "cell_type": "markdown",
   "metadata": {},
   "source": []
  }
 ],
 "metadata": {
  "kernelspec": {
   "display_name": "Python 3",
   "language": "python",
   "name": "python3"
  },
  "language_info": {
   "codemirror_mode": {
    "name": "ipython",
    "version": 3
   },
   "file_extension": ".py",
   "mimetype": "text/x-python",
   "name": "python",
   "nbconvert_exporter": "python",
   "pygments_lexer": "ipython3",
   "version": "3.11.3"
  },
  "orig_nbformat": 4
 },
 "nbformat": 4,
 "nbformat_minor": 2
}
